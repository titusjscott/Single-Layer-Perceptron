{
  "nbformat": 4,
  "nbformat_minor": 0,
  "metadata": {
    "colab": {
      "provenance": [],
      "authorship_tag": "ABX9TyPQNtucs8zND3J/Ob1JOkuh",
      "include_colab_link": true
    },
    "kernelspec": {
      "name": "python3",
      "display_name": "Python 3"
    },
    "language_info": {
      "name": "python"
    }
  },
  "cells": [
    {
      "cell_type": "markdown",
      "metadata": {
        "id": "view-in-github",
        "colab_type": "text"
      },
      "source": [
        "<a href=\"https://colab.research.google.com/github/titusjscott/Single-Layer-Perceptron/blob/main/perceptron_py.ipynb\" target=\"_parent\"><img src=\"https://colab.research.google.com/assets/colab-badge.svg\" alt=\"Open In Colab\"/></a>"
      ]
    },
    {
      "cell_type": "code",
      "source": [
        "import numpy as np\n",
        "\n",
        "class Perceptron:\n",
        "  def __init__(self, num_inputs, learning_rate):\n",
        "    self.weight = np.zeros(num_inputs + 1)\n",
        "    self.learning_rate = learning_rate\n",
        "  \n",
        "  def signum(self, x):\n",
        "    return 1 if x >= 0 else -1\n",
        "\n",
        "  def fit(self, X, labels, epochs):\n",
        "    X = np.c_[X, np.ones((X.shape[0]))]\n",
        "    for epoch in np.arange(0, epochs):\n",
        "      for (x, d) in zip(X, labels):\n",
        "        y = self.signum(np.dot(x, self.weight))\n",
        "        if y != d:\n",
        "          error = y - d\n",
        "          self.weight += -self.learning_rate * error * x\n",
        "  def predict(self, X, addBias = True):\n",
        "    X = np.atleast_2d(X)\n",
        "    if addBias:\n",
        "      X = np.c_[X, np.ones((X.shape[0]))]\n",
        "    return self.signum(np.dot(X, self.weight))\n",
        "\n",
        "\n",
        "\n",
        "X = np.array([[0, 0], [0, 1], [1, 0], [1, 1]])\n",
        "d = np.array([[-1], [1], [1], [1]])\n",
        "\n",
        "print(\"[INFO] training perceptron...\")\n",
        "p = Perceptron(X.shape[1], learning_rate=0.1)\n",
        "p.fit(X, d, epochs=20)\n",
        "\n",
        "\n",
        "print(\"[INFO] testing perceptron...\")\n",
        "\n",
        "for (x, d) in zip(X, d):\n",
        "  pred = p.predict(x)\n",
        "  print(\"[INFO] data={}, ground-truth={}, pred={}\".format(x, d[0], pred))"
      ],
      "metadata": {
        "colab": {
          "base_uri": "https://localhost:8080/"
        },
        "id": "Geh7FYqiusoE",
        "outputId": "b60fc0f2-c474-436d-fdf9-d499bdb3b347"
      },
      "execution_count": 3,
      "outputs": [
        {
          "output_type": "stream",
          "name": "stdout",
          "text": [
            "[INFO] training perceptron...\n",
            "[INFO] testing perceptron...\n",
            "[INFO] data=[0 0], ground-truth=-1, pred=-1\n",
            "[INFO] data=[0 1], ground-truth=1, pred=1\n",
            "[INFO] data=[1 0], ground-truth=1, pred=1\n",
            "[INFO] data=[1 1], ground-truth=1, pred=1\n"
          ]
        }
      ]
    },
    {
      "cell_type": "code",
      "source": [
        "import numpy as np\n",
        "\n",
        "\n",
        "class Perceptron:\n",
        "  def __init__(self, N, alpha=0.1):\n",
        "    self.W=np.random.randn(N + 1)/np.sqrt(N)\n",
        "    self.alpha = alpha\n",
        "\n",
        "def"
      ],
      "metadata": {
        "id": "s2xXas90n2OY"
      },
      "execution_count": null,
      "outputs": []
    }
  ]
}