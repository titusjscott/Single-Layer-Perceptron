{
  "nbformat": 4,
  "nbformat_minor": 0,
  "metadata": {
    "colab": {
      "provenance": [],
      "authorship_tag": "ABX9TyNrSUTqXrXn9x7viNP+tkeI",
      "include_colab_link": true
    },
    "kernelspec": {
      "name": "python3",
      "display_name": "Python 3"
    },
    "language_info": {
      "name": "python"
    }
  },
  "cells": [
    {
      "cell_type": "markdown",
      "metadata": {
        "id": "view-in-github",
        "colab_type": "text"
      },
      "source": [
        "<a href=\"https://colab.research.google.com/github/titusjscott/Single-Layer-Perceptron/blob/main/slperceptron.ipynb\" target=\"_parent\"><img src=\"https://colab.research.google.com/assets/colab-badge.svg\" alt=\"Open In Colab\"/></a>"
      ]
    },
    {
      "cell_type": "code",
      "execution_count": 2,
      "metadata": {
        "colab": {
          "base_uri": "https://localhost:8080/"
        },
        "id": "oav2fom_UgDs",
        "outputId": "bc88b60c-5c23-40cf-c8a9-fe87a9002348"
      },
      "outputs": [
        {
          "output_type": "stream",
          "name": "stdout",
          "text": [
            "Epoch: 0, Accuracy: 50.00%, Error: 50.00%\n",
            "Epoch: 1, Accuracy: 50.00%, Error: 50.00%\n",
            "Epoch: 2, Accuracy: 50.00%, Error: 50.00%\n",
            "Epoch: 3, Accuracy: 50.00%, Error: 50.00%\n",
            "Epoch: 4, Accuracy: 50.00%, Error: 50.00%\n",
            "Epoch: 5, Accuracy: 50.00%, Error: 50.00%\n",
            "Epoch: 6, Accuracy: 50.00%, Error: 50.00%\n",
            "Epoch: 7, Accuracy: 50.00%, Error: 50.00%\n",
            "Epoch: 8, Accuracy: 50.00%, Error: 50.00%\n",
            "Epoch: 9, Accuracy: 50.00%, Error: 50.00%\n",
            "Epoch: 10, Accuracy: 50.00%, Error: 50.00%\n",
            "Epoch: 11, Accuracy: 52.60%, Error: 47.40%\n",
            "Epoch: 12, Accuracy: 62.20%, Error: 37.80%\n",
            "Epoch: 13, Accuracy: 75.80%, Error: 24.20%\n",
            "Epoch: 14, Accuracy: 86.60%, Error: 13.40%\n",
            "Epoch: 15, Accuracy: 94.60%, Error: 5.40%\n",
            "Epoch: 16, Accuracy: 97.40%, Error: 2.60%\n",
            "Epoch: 17, Accuracy: 99.80%, Error: 0.20%\n",
            "Epoch: 18, Accuracy: 100.00%, Error: 0.00%\n"
          ]
        },
        {
          "output_type": "stream",
          "name": "stderr",
          "text": [
            "<ipython-input-2-13180c147836>:31: RuntimeWarning: overflow encountered in exp\n",
            "  return 1 / (1 + np.exp(-x))\n"
          ]
        }
      ],
      "source": [
        "import numpy as np\n",
        "import csv\n",
        "import pandas as pd\n",
        "\n",
        "url = 'https://raw.githubusercontent.com/titusjscott/Single-Layer-Perceptron/main/two_class_uniform_data.csv'\n",
        "df = pd.read_csv(url)\n",
        "      \n",
        "        \n",
        "        \n",
        "# Convert the list of data into a numpy array\n",
        "df = np.array(df)\n",
        "\n",
        "# Select the columns of the data that will be used for inputs (X) and the column with the target class labels (d)\n",
        "X = df[:, :2]\n",
        "d = df[:, 2]\n",
        "\n",
        "# Save the inputs and labels as .npy files\n",
        "np.save(\"inputs.npy\", X)\n",
        "np.save(\"labels.npy\", d)\n",
        "\n",
        "# defining the perceptron model\n",
        "class Perceptron:\n",
        "  def __init__(self, num_inputs, learning_rate):\n",
        "    # setting up num_inputs + 1 to ensure bias is included\n",
        "    self.weight = np.zeros(num_inputs + 1)\n",
        "    self.learning_rate = learning_rate\n",
        "    \n",
        " #define sigmoid function   \n",
        "  def sigmoid(self, x):\n",
        "    return 1 / (1 + np.exp(-x))\n",
        "# define signum function\n",
        "  def signum(self, x):\n",
        "    return 1 if x > 0 else -1\n",
        " # define the fit for the model    \n",
        "  def fit(self, X, labels, epochs):\n",
        "    # places a bias into the data\n",
        "    X = np.c_[X, np.ones((X.shape[0]))]\n",
        "    # create loop for multiple iterations. Each epoch will have a report printed of accuracy and error%. \n",
        "    # when accuracy % reaches 100%, the iterations will end\n",
        "    for epoch in np.arange(0, epochs):\n",
        "        num_correct = 0\n",
        "        for (x, d) in zip(X, labels):\n",
        "            y = self.sigmoid(np.dot(x, self.weight))\n",
        "            if self.signum(y) == d:\n",
        "                num_correct += 1\n",
        "        accuracy = num_correct / X.shape[0]\n",
        "        error = 1 - accuracy\n",
        "        print(\"Epoch: {}, Accuracy: {:.2f}%, Error: {:.2f}%\".format(epoch, accuracy * 100, error * 100))\n",
        "        if accuracy == 1.0:\n",
        "            break\n",
        "        # create inner loop that will update the weights when output doesn't match the target\n",
        "        for (x, d) in zip(X, labels):\n",
        "            y = self.sigmoid(np.dot(x, self.weight))\n",
        "            if y != d:\n",
        "                error = np.array(y - d, dtype=float)\n",
        "                x = np.array(x, dtype=float)\n",
        "                self.weight += -self.learning_rate * error * x\n",
        "       \n",
        "# Execute the model, user implements their own learning_rate, epoch number, and data\n",
        "p = Perceptron(X.shape[1], learning_rate=0.05)\n",
        "p.fit(X, d, epochs=100)"
      ]
    }
  ]
}